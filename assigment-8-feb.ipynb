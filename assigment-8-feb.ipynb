{
 "cells": [
  {
   "cell_type": "code",
   "execution_count": 1,
   "id": "8461936f-a555-4564-ae34-15b129f403ce",
   "metadata": {},
   "outputs": [
    {
     "ename": "SyntaxError",
     "evalue": "unterminated string literal (detected at line 3) (1394645350.py, line 3)",
     "output_type": "error",
     "traceback": [
      "\u001b[0;36m  Cell \u001b[0;32mIn[1], line 3\u001b[0;36m\u001b[0m\n\u001b[0;31m    Abstraction is used to describe things in simple terms. It's used to create\u001b[0m\n\u001b[0m                                                              ^\u001b[0m\n\u001b[0;31mSyntaxError\u001b[0m\u001b[0;31m:\u001b[0m unterminated string literal (detected at line 3)\n"
     ]
    }
   ],
   "source": [
    "Q1. What is Abstraction in OOps? Explain with an example.\n",
    "ANSWER:Abstraction is the process of hiding the internal details of an application from the outer world.\n",
    "Abstraction is used to describe things in simple terms. It's used to create \n",
    "a boundary between the application and the client programs.\n",
    "\n",
    "Example:Let's take another example - When we use the TV remote to increase the volume. We don't know how pressing a key\n",
    "increases the volume of the TV. We only know to press the \"+\" button to increase the volume. \n",
    "That is exactly the abstraction that works in the object-oriented concept\n",
    "    "
   ]
  },
  {
   "cell_type": "code",
   "execution_count": 2,
   "id": "a55a5c25-ac51-4d86-be62-73c99ca55c25",
   "metadata": {},
   "outputs": [
    {
     "ename": "SyntaxError",
     "evalue": "invalid syntax (979051555.py, line 1)",
     "output_type": "error",
     "traceback": [
      "\u001b[0;36m  Cell \u001b[0;32mIn[2], line 1\u001b[0;36m\u001b[0m\n\u001b[0;31m    Q2.Differentiate between Abstraction and Encapsulation. Explain with an example.\u001b[0m\n\u001b[0m                     ^\u001b[0m\n\u001b[0;31mSyntaxError\u001b[0m\u001b[0;31m:\u001b[0m invalid syntax\n"
     ]
    }
   ],
   "source": [
    "Q2.Differentiate between Abstraction and Encapsulation. Explain with an example.\n",
    "\n",
    "Answer:Encapsulation is defined as the wrapping up of data under a single unit. It is the mechanism that binds together \n",
    "code and the data it manipulates. Another way to think about encapsulation is, that it is a protective shield that prevents\n",
    "the data from being accessed by the code outside this shield. Technically in encapsulation, the variables or data of a\n",
    "class is hidden from any other class and can be accessed only through any member function of its own class in which they \n",
    "are declared. As in encapsulation, the data in a class is hidden from other classes, so it is also known as data-hiding. \n",
    "Encapsulation can be achieved by Declaring all the variables in the class as private and \n",
    "writing public methods in the class to set and get the values of variables. "
   ]
  },
  {
   "cell_type": "code",
   "execution_count": 3,
   "id": "c5c34943-596c-4b55-898d-cd186dfa453d",
   "metadata": {},
   "outputs": [
    {
     "ename": "SyntaxError",
     "evalue": "invalid character '’' (U+2019) (1391228291.py, line 4)",
     "output_type": "error",
     "traceback": [
      "\u001b[0;36m  Cell \u001b[0;32mIn[3], line 4\u001b[0;36m\u001b[0m\n\u001b[0;31m    specification. It can also prevent any attempt to instantiate a subclass that doesn’t override a particular method in the\u001b[0m\n\u001b[0m                                                                                       ^\u001b[0m\n\u001b[0;31mSyntaxError\u001b[0m\u001b[0;31m:\u001b[0m invalid character '’' (U+2019)\n"
     ]
    }
   ],
   "source": [
    "Q3.What is abc module in python? Why is it used?\n",
    "\n",
    "Answer: The main goal of the abstract base class is to provide a standardized way to test whether an object adheres to a given\n",
    "specification. It can also prevent any attempt to instantiate a subclass that doesn’t override a particular method in the \n",
    "superclass. And finally, using an abstract class, a class can derive identity \n",
    "from another class without any object inheritance."
   ]
  },
  {
   "cell_type": "code",
   "execution_count": 4,
   "id": "2f519b7c-8343-47f2-b8ec-f2e2f7b7d319",
   "metadata": {},
   "outputs": [
    {
     "ename": "SyntaxError",
     "evalue": "invalid syntax (3057373136.py, line 2)",
     "output_type": "error",
     "traceback": [
      "\u001b[0;36m  Cell \u001b[0;32mIn[4], line 2\u001b[0;36m\u001b[0m\n\u001b[0;31m    Answer:The main point that is necessary here to note is that data abstraction is only possible to achieve through encapsulation.\u001b[0m\n\u001b[0m               ^\u001b[0m\n\u001b[0;31mSyntaxError\u001b[0m\u001b[0;31m:\u001b[0m invalid syntax\n"
     ]
    }
   ],
   "source": [
    "Q4. How can we achieve data abstraction?\n",
    "\n",
    "Answer:The main point that is necessary here to note is that data abstraction is only possible to achieve through encapsulation.\n",
    "Encapsulation means storing or placing data in a single place to make it easily readable and compact in one place.\n",
    "Whereas data abstraction in python programming means to hide internal functionalities that are performing on the\n",
    "application using codes and \n",
    "to show only essential information (class attributes).\n"
   ]
  },
  {
   "cell_type": "code",
   "execution_count": 5,
   "id": "cc414a1a-d02c-4deb-9876-433e47787eea",
   "metadata": {},
   "outputs": [
    {
     "ename": "SyntaxError",
     "evalue": "invalid syntax (310405938.py, line 1)",
     "output_type": "error",
     "traceback": [
      "\u001b[0;36m  Cell \u001b[0;32mIn[5], line 1\u001b[0;36m\u001b[0m\n\u001b[0;31m    Q4.Can we create an instance of an abstract class? Explain your answer.\u001b[0m\n\u001b[0m           ^\u001b[0m\n\u001b[0;31mSyntaxError\u001b[0m\u001b[0;31m:\u001b[0m invalid syntax\n"
     ]
    }
   ],
   "source": [
    "Q4.Can we create an instance of an abstract class? Explain your answer.\n",
    "\n",
    "Answer:An abstract class can be considered as a blueprint for other classes. It allows you to create a set of methods\n",
    "that must be created within any child classes built from the abstract class. A class which contains one or more abstract\n",
    "methods is called an abstract class."
   ]
  },
  {
   "cell_type": "code",
   "execution_count": null,
   "id": "3fa9ac9a-5d49-444f-aa08-9d114ab28ae9",
   "metadata": {},
   "outputs": [],
   "source": []
  }
 ],
 "metadata": {
  "kernelspec": {
   "display_name": "Python 3 (ipykernel)",
   "language": "python",
   "name": "python3"
  },
  "language_info": {
   "codemirror_mode": {
    "name": "ipython",
    "version": 3
   },
   "file_extension": ".py",
   "mimetype": "text/x-python",
   "name": "python",
   "nbconvert_exporter": "python",
   "pygments_lexer": "ipython3",
   "version": "3.10.8"
  }
 },
 "nbformat": 4,
 "nbformat_minor": 5
}
